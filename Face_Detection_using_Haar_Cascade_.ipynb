{
  "nbformat": 4,
  "nbformat_minor": 0,
  "metadata": {
    "colab": {
      "provenance": [],
      "authorship_tag": "ABX9TyNVm6GrF3jyhzq2lh9EvgHq",
      "include_colab_link": true
    },
    "kernelspec": {
      "name": "python3",
      "display_name": "Python 3"
    },
    "language_info": {
      "name": "python"
    }
  },
  "cells": [
    {
      "cell_type": "markdown",
      "metadata": {
        "id": "view-in-github",
        "colab_type": "text"
      },
      "source": [
        "<a href=\"https://colab.research.google.com/github/Alaaibrahim2/Alaa/blob/main/Face_Detection_using_Haar_Cascade_.ipynb\" target=\"_parent\"><img src=\"https://colab.research.google.com/assets/colab-badge.svg\" alt=\"Open In Colab\"/></a>"
      ]
    },
    {
      "cell_type": "code",
      "execution_count": 6,
      "metadata": {
        "id": "t1JxXnJzuX_w"
      },
      "outputs": [],
      "source": [
        "import cv2 "
      ]
    },
    {
      "cell_type": "code",
      "source": [
        "face_cascade =cv2.CascadeClassifier(\"/content/haarcascade_frontalface_default.xml\")"
      ],
      "metadata": {
        "id": "1bj8yQ1Vuy47"
      },
      "execution_count": 7,
      "outputs": []
    },
    {
      "cell_type": "code",
      "source": [
        "cap =cv2.VideoCapture(0)"
      ],
      "metadata": {
        "id": "sPH_w3N1x8Wd"
      },
      "execution_count": 8,
      "outputs": []
    },
    {
      "cell_type": "code",
      "source": [
        "while(cap.isOpened()):\n",
        "    ret ,frame =cap.read()\n",
        "    gray =cv2.cvtColor(frame,cv2.COLOR_BGR2GRAY)\n",
        "    \n",
        "    faces =face_cascade.detectMultiScale(gray ,1.3 , 4)\n",
        "    for (x,y,h,w) in faces :\n",
        "        cv2.rectangle(frame ,(x,y),(x+w ,y+h),(0,255,0),3)      \n",
        "    cv2.imshow(\"frame\" ,frame)\n",
        "    \n",
        "    key =cv2.waitKey(1)\n",
        "    if(key == 27):\n",
        "        break "
      ],
      "metadata": {
        "id": "tOMyjdQMxsiu"
      },
      "execution_count": 11,
      "outputs": []
    },
    {
      "cell_type": "code",
      "source": [
        "cap.release()\n",
        "cv2.destroyAllWindows()\n"
      ],
      "metadata": {
        "id": "7GHwSUViyhnj"
      },
      "execution_count": 10,
      "outputs": []
    },
    {
      "cell_type": "code",
      "source": [],
      "metadata": {
        "id": "EYMNovnRyBK1"
      },
      "execution_count": null,
      "outputs": []
    }
  ]
}