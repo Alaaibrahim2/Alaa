{
  "nbformat": 4,
  "nbformat_minor": 0,
  "metadata": {
    "colab": {
      "provenance": [],
      "authorship_tag": "ABX9TyMXzozDX4vNS1Ig8Ng0/LBL",
      "include_colab_link": true
    },
    "kernelspec": {
      "name": "python3",
      "display_name": "Python 3"
    },
    "language_info": {
      "name": "python"
    }
  },
  "cells": [
    {
      "cell_type": "markdown",
      "metadata": {
        "id": "view-in-github",
        "colab_type": "text"
      },
      "source": [
        "<a href=\"https://colab.research.google.com/github/Alaaibrahim2/Alaa/blob/main/NLP1preprocessing.ipynb\" target=\"_parent\"><img src=\"https://colab.research.google.com/assets/colab-badge.svg\" alt=\"Open In Colab\"/></a>"
      ]
    },
    {
      "cell_type": "code",
      "execution_count": 1,
      "metadata": {
        "id": "tKAV5FdusTPn"
      },
      "outputs": [],
      "source": [
        "import re\n",
        "from IPython import display"
      ]
    },
    {
      "cell_type": "code",
      "source": [],
      "metadata": {
        "id": "bEmb9H3As5U6"
      },
      "execution_count": null,
      "outputs": []
    },
    {
      "cell_type": "markdown",
      "source": [
        "regexp cheatsheet"
      ],
      "metadata": {
        "id": "Pqyh7fDBs9Kz"
      }
    },
    {
      "cell_type": "code",
      "source": [
        "display.IFrame('https://devhints.io/regexp', width=800, height=500)\n"
      ],
      "metadata": {
        "colab": {
          "base_uri": "https://localhost:8080/",
          "height": 521
        },
        "id": "uSW6yAdZsvj4",
        "outputId": "151af13c-9665-4584-c187-44ba11df2aae"
      },
      "execution_count": 2,
      "outputs": [
        {
          "output_type": "execute_result",
          "data": {
            "text/plain": [
              "<IPython.lib.display.IFrame at 0x780092100fd0>"
            ],
            "text/html": [
              "\n",
              "        <iframe\n",
              "            width=\"800\"\n",
              "            height=\"500\"\n",
              "            src=\"https://devhints.io/regexp\"\n",
              "            frameborder=\"0\"\n",
              "            allowfullscreen\n",
              "            \n",
              "        ></iframe>\n",
              "        "
            ]
          },
          "metadata": {},
          "execution_count": 2
        }
      ]
    },
    {
      "cell_type": "code",
      "source": [
        "display.HTML('<blockquote class=\"twitter-tweet\"><p lang=\"en\" dir=\"ltr\">How to get started in Natural Language Processing (NLP) thread 🧵🪡</p>&mdash; Munich🥨NLP (@MunichNlp) <a href=\"https://twitter.com/MunichNlp/status/1551257503018717184?ref_src=twsrc%5Etfw\">July 24, 2022</a></blockquote> <script async src=\"https://platform.twitter.com/widgets.js\" charset=\"utf-8\"></script> ')\n"
      ],
      "metadata": {
        "colab": {
          "base_uri": "https://localhost:8080/",
          "height": 287
        },
        "id": "4jMzfJFcszAC",
        "outputId": "944f9403-4990-421b-eaea-14bac73ca42a"
      },
      "execution_count": 3,
      "outputs": [
        {
          "output_type": "execute_result",
          "data": {
            "text/plain": [
              "<IPython.core.display.HTML object>"
            ],
            "text/html": [
              "<blockquote class=\"twitter-tweet\"><p lang=\"en\" dir=\"ltr\">How to get started in Natural Language Processing (NLP) thread 🧵🪡</p>&mdash; Munich🥨NLP (@MunichNlp) <a href=\"https://twitter.com/MunichNlp/status/1551257503018717184?ref_src=twsrc%5Etfw\">July 24, 2022</a></blockquote> <script async src=\"https://platform.twitter.com/widgets.js\" charset=\"utf-8\"></script> "
            ]
          },
          "metadata": {},
          "execution_count": 3
        }
      ]
    },
    {
      "cell_type": "code",
      "source": [
        "tweet = \"How to get started in Natural Language Processing (NLP) ?! thread 🧵🪡 #NLP #datascience #nlp_2022 ...\"\n"
      ],
      "metadata": {
        "id": "TJYsIpg7tR0i"
      },
      "execution_count": 4,
      "outputs": []
    },
    {
      "cell_type": "code",
      "source": [
        "matches=re.findall(pattern='\\w',string=tweet)\n",
        "matches"
      ],
      "metadata": {
        "colab": {
          "base_uri": "https://localhost:8080/"
        },
        "id": "2eBeYo7Uto6P",
        "outputId": "e1bf795e-1fdb-4675-e9e6-6dfd9e3d173c"
      },
      "execution_count": 6,
      "outputs": [
        {
          "output_type": "execute_result",
          "data": {
            "text/plain": [
              "['H',\n",
              " 'o',\n",
              " 'w',\n",
              " 't',\n",
              " 'o',\n",
              " 'g',\n",
              " 'e',\n",
              " 't',\n",
              " 's',\n",
              " 't',\n",
              " 'a',\n",
              " 'r',\n",
              " 't',\n",
              " 'e',\n",
              " 'd',\n",
              " 'i',\n",
              " 'n',\n",
              " 'N',\n",
              " 'a',\n",
              " 't',\n",
              " 'u',\n",
              " 'r',\n",
              " 'a',\n",
              " 'l',\n",
              " 'L',\n",
              " 'a',\n",
              " 'n',\n",
              " 'g',\n",
              " 'u',\n",
              " 'a',\n",
              " 'g',\n",
              " 'e',\n",
              " 'P',\n",
              " 'r',\n",
              " 'o',\n",
              " 'c',\n",
              " 'e',\n",
              " 's',\n",
              " 's',\n",
              " 'i',\n",
              " 'n',\n",
              " 'g',\n",
              " 'N',\n",
              " 'L',\n",
              " 'P',\n",
              " 't',\n",
              " 'h',\n",
              " 'r',\n",
              " 'e',\n",
              " 'a',\n",
              " 'd',\n",
              " 'N',\n",
              " 'L',\n",
              " 'P',\n",
              " 'd',\n",
              " 'a',\n",
              " 't',\n",
              " 'a',\n",
              " 's',\n",
              " 'c',\n",
              " 'i',\n",
              " 'e',\n",
              " 'n',\n",
              " 'c',\n",
              " 'e',\n",
              " 'n',\n",
              " 'l',\n",
              " 'p',\n",
              " '_',\n",
              " '2',\n",
              " '0',\n",
              " '2',\n",
              " '2']"
            ]
          },
          "metadata": {},
          "execution_count": 6
        }
      ]
    },
    {
      "cell_type": "code",
      "source": [
        "\"\".join(matches)"
      ],
      "metadata": {
        "colab": {
          "base_uri": "https://localhost:8080/",
          "height": 35
        },
        "id": "Gmlc5XzNt8Uc",
        "outputId": "837517a1-2dd6-4e7c-d0e5-bf6399478233"
      },
      "execution_count": 7,
      "outputs": [
        {
          "output_type": "execute_result",
          "data": {
            "text/plain": [
              "'HowtogetstartedinNaturalLanguageProcessingNLPthreadNLPdatasciencenlp_2022'"
            ],
            "application/vnd.google.colaboratory.intrinsic+json": {
              "type": "string"
            }
          },
          "metadata": {},
          "execution_count": 7
        }
      ]
    },
    {
      "cell_type": "code",
      "source": [
        "matches=re.findall(pattern='[\\w\\s]',string=tweet)"
      ],
      "metadata": {
        "id": "9QNE8fzzuSBP"
      },
      "execution_count": 9,
      "outputs": []
    },
    {
      "cell_type": "code",
      "source": [
        "\"\".join(matches)"
      ],
      "metadata": {
        "colab": {
          "base_uri": "https://localhost:8080/",
          "height": 35
        },
        "id": "2V5L2ey_uofM",
        "outputId": "a56943f5-baea-4545-9348-2ca87043092c"
      },
      "execution_count": 10,
      "outputs": [
        {
          "output_type": "execute_result",
          "data": {
            "text/plain": [
              "'How to get started in Natural Language Processing NLP  thread  NLP datascience nlp_2022 '"
            ],
            "application/vnd.google.colaboratory.intrinsic+json": {
              "type": "string"
            }
          },
          "metadata": {},
          "execution_count": 10
        }
      ]
    },
    {
      "cell_type": "code",
      "source": [
        "matches=re.findall(pattern='\\w+',string=tweet)\n",
        "matches"
      ],
      "metadata": {
        "colab": {
          "base_uri": "https://localhost:8080/"
        },
        "id": "g9gxqa-RuxkC",
        "outputId": "e81dd1d9-773a-41e7-d55b-322ef05bee48"
      },
      "execution_count": 12,
      "outputs": [
        {
          "output_type": "execute_result",
          "data": {
            "text/plain": [
              "['How',\n",
              " 'to',\n",
              " 'get',\n",
              " 'started',\n",
              " 'in',\n",
              " 'Natural',\n",
              " 'Language',\n",
              " 'Processing',\n",
              " 'NLP',\n",
              " 'thread',\n",
              " 'NLP',\n",
              " 'datascience',\n",
              " 'nlp_2022']"
            ]
          },
          "metadata": {},
          "execution_count": 12
        }
      ]
    },
    {
      "cell_type": "code",
      "source": [
        "display.HTML(data='<blockquote class=\"twitter-tweet\"><p lang=\"ar\" dir=\"rtl\">غابات دبين 🇯🇴<br>محمية طبيعية استثنائية في مدينة جرش العريقة، وتزخر في فصلي الربيع والصيف بالزوار نظراً لكونها واحدة من أهم المعالم السياحية في الأردن، حيث تضم مساحاتها الشاسعة أنواع عديدة من أنواع الاشجار والنباتات المختلفة والزهور الخلابة ⬇️<a href=\"https://twitter.com/hashtag/%D8%A7%D9%84%D8%A3%D8%B1%D8%AF%D9%86_%D8%A8%D8%B9%D9%8A%D9%88%D9%86_%D8%A3%D8%B1%D8%AF%D9%86%D9%8A%D8%A9?src=hash&amp;ref_src=twsrc%5Etfw\">#الأردن_بعيون_أردنية</a> 🇯🇴 <a href=\"https://t.co/JR8eNo7qzi\">pic.twitter.com/JR8eNo7qzi</a></p>&mdash; يزن ⚖︎🇯🇴 (@YazanTheeb22) <a href=\"https://twitter.com/YazanTheeb22/status/1552275609426006017?ref_src=twsrc%5Etfw\">July 27, 2022</a></blockquote> <script async src=\"https://platform.twitter.com/widgets.js\" charset=\"utf-8\"></script> ')\n"
      ],
      "metadata": {
        "colab": {
          "base_uri": "https://localhost:8080/",
          "height": 189
        },
        "id": "WCJn4fLzvL4A",
        "outputId": "d70acb4b-b200-48b9-9714-fc839aa33245"
      },
      "execution_count": 13,
      "outputs": [
        {
          "output_type": "execute_result",
          "data": {
            "text/plain": [
              "<IPython.core.display.HTML object>"
            ],
            "text/html": [
              "<blockquote class=\"twitter-tweet\"><p lang=\"ar\" dir=\"rtl\">غابات دبين 🇯🇴<br>محمية طبيعية استثنائية في مدينة جرش العريقة، وتزخر في فصلي الربيع والصيف بالزوار نظراً لكونها واحدة من أهم المعالم السياحية في الأردن، حيث تضم مساحاتها الشاسعة أنواع عديدة من أنواع الاشجار والنباتات المختلفة والزهور الخلابة ⬇️<a href=\"https://twitter.com/hashtag/%D8%A7%D9%84%D8%A3%D8%B1%D8%AF%D9%86_%D8%A8%D8%B9%D9%8A%D9%88%D9%86_%D8%A3%D8%B1%D8%AF%D9%86%D9%8A%D8%A9?src=hash&amp;ref_src=twsrc%5Etfw\">#الأردن_بعيون_أردنية</a> 🇯🇴 <a href=\"https://t.co/JR8eNo7qzi\">pic.twitter.com/JR8eNo7qzi</a></p>&mdash; يزن ⚖︎🇯🇴 (@YazanTheeb22) <a href=\"https://twitter.com/YazanTheeb22/status/1552275609426006017?ref_src=twsrc%5Etfw\">July 27, 2022</a></blockquote> <script async src=\"https://platform.twitter.com/widgets.js\" charset=\"utf-8\"></script> "
            ]
          },
          "metadata": {},
          "execution_count": 13
        }
      ]
    },
    {
      "cell_type": "code",
      "source": [
        "tweet = \"\"\"\n",
        "غابات دبين 🇯🇴\n",
        "محمية طبيعية استثنائية في مدينة جرش العريقة، وتزخر في فصلي الربيع والصيف بالزوار نظراً لكونها واحدة من أهم المعالم السياحية في الأردن، حيث تضم مساحاتها الشاسعة أنواع عديدة من أنواع الاشجار والنباتات المختلفة والزهور الخلابة ⬇️\n",
        "#الأردن_بعيون_أردنية 🇯🇴\n",
        "\"\"\""
      ],
      "metadata": {
        "id": "ZQv4P7NnvgPI"
      },
      "execution_count": 14,
      "outputs": []
    },
    {
      "cell_type": "code",
      "source": [
        "words = re.findall(r'\\b\\w+\\b', tweet)\n",
        "\n",
        "print(words)"
      ],
      "metadata": {
        "colab": {
          "base_uri": "https://localhost:8080/"
        },
        "id": "1o6rNQ4IvrpV",
        "outputId": "ad23cab4-0eec-4eff-925e-974a95942905"
      },
      "execution_count": 15,
      "outputs": [
        {
          "output_type": "stream",
          "name": "stdout",
          "text": [
            "['غابات', 'دبين', 'محمية', 'طبيعية', 'استثنائية', 'في', 'مدينة', 'جرش', 'العريقة', 'وتزخر', 'في', 'فصلي', 'الربيع', 'والصيف', 'بالزوار', 'نظرا', 'لكونها', 'واحدة', 'من', 'أهم', 'المعالم', 'السياحية', 'في', 'الأردن', 'حيث', 'تضم', 'مساحاتها', 'الشاسعة', 'أنواع', 'عديدة', 'من', 'أنواع', 'الاشجار', 'والنباتات', 'المختلفة', 'والزهور', 'الخلابة', 'الأردن_بعيون_أردنية']\n"
          ]
        }
      ]
    },
    {
      "cell_type": "code",
      "source": [
        "re.findall(\"[\\u0600-\\u06FF]+\", tweet)"
      ],
      "metadata": {
        "colab": {
          "base_uri": "https://localhost:8080/"
        },
        "id": "RxGGLz1JwA0X",
        "outputId": "389f3839-ed51-479a-93cd-85ddc6e3eb3f"
      },
      "execution_count": 16,
      "outputs": [
        {
          "output_type": "execute_result",
          "data": {
            "text/plain": [
              "['غابات',\n",
              " 'دبين',\n",
              " 'محمية',\n",
              " 'طبيعية',\n",
              " 'استثنائية',\n",
              " 'في',\n",
              " 'مدينة',\n",
              " 'جرش',\n",
              " 'العريقة،',\n",
              " 'وتزخر',\n",
              " 'في',\n",
              " 'فصلي',\n",
              " 'الربيع',\n",
              " 'والصيف',\n",
              " 'بالزوار',\n",
              " 'نظراً',\n",
              " 'لكونها',\n",
              " 'واحدة',\n",
              " 'من',\n",
              " 'أهم',\n",
              " 'المعالم',\n",
              " 'السياحية',\n",
              " 'في',\n",
              " 'الأردن،',\n",
              " 'حيث',\n",
              " 'تضم',\n",
              " 'مساحاتها',\n",
              " 'الشاسعة',\n",
              " 'أنواع',\n",
              " 'عديدة',\n",
              " 'من',\n",
              " 'أنواع',\n",
              " 'الاشجار',\n",
              " 'والنباتات',\n",
              " 'المختلفة',\n",
              " 'والزهور',\n",
              " 'الخلابة',\n",
              " 'الأردن',\n",
              " 'بعيون',\n",
              " 'أردنية']"
            ]
          },
          "metadata": {},
          "execution_count": 16
        }
      ]
    },
    {
      "cell_type": "code",
      "source": [],
      "metadata": {
        "id": "9mKhUxgfwJYT"
      },
      "execution_count": null,
      "outputs": []
    }
  ]
}