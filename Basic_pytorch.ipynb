{
  "nbformat": 4,
  "nbformat_minor": 0,
  "metadata": {
    "colab": {
      "private_outputs": true,
      "provenance": [],
      "authorship_tag": "ABX9TyOBXuMCg8mG45ZeuGb72Xp0",
      "include_colab_link": true
    },
    "kernelspec": {
      "name": "python3",
      "display_name": "Python 3"
    },
    "language_info": {
      "name": "python"
    },
    "accelerator": "GPU",
    "gpuClass": "standard"
  },
  "cells": [
    {
      "cell_type": "markdown",
      "metadata": {
        "id": "view-in-github",
        "colab_type": "text"
      },
      "source": [
        "<a href=\"https://colab.research.google.com/github/Alaaibrahim2/Alaa/blob/main/Basic_pytorch.ipynb\" target=\"_parent\"><img src=\"https://colab.research.google.com/assets/colab-badge.svg\" alt=\"Open In Colab\"/></a>"
      ]
    },
    {
      "cell_type": "code",
      "execution_count": null,
      "metadata": {
        "id": "tu9VYWUiRIvv"
      },
      "outputs": [],
      "source": [
        "import torch\n",
        "import numpy as np\n"
      ]
    },
    {
      "cell_type": "code",
      "source": [],
      "metadata": {
        "id": "NKxZWknXSYK2"
      },
      "execution_count": null,
      "outputs": []
    },
    {
      "cell_type": "markdown",
      "source": [
        "creating tensor\n"
      ],
      "metadata": {
        "id": "d2GpHR4YTv0E"
      }
    },
    {
      "cell_type": "markdown",
      "source": [],
      "metadata": {
        "id": "6ZKQsHxbTuTK"
      }
    },
    {
      "cell_type": "code",
      "source": [
        "a=torch.tensor([[1,2],[3,4]],dtype=torch.int64,requires_grad=False,device='cpu',pin_memory=False)\n",
        "print(a)"
      ],
      "metadata": {
        "id": "Iz6ILcfsRYe0"
      },
      "execution_count": null,
      "outputs": []
    },
    {
      "cell_type": "code",
      "source": [],
      "metadata": {
        "id": "QLuyQms8Z7Tw"
      },
      "execution_count": null,
      "outputs": []
    },
    {
      "cell_type": "code",
      "source": [
        "a=np.random.randint(low=0,high=10,size=(5,5))\n",
        "a=torch.from_numpy(a)\n",
        "a"
      ],
      "metadata": {
        "id": "BZGOi5i3ZCor"
      },
      "execution_count": null,
      "outputs": []
    },
    {
      "cell_type": "code",
      "source": [],
      "metadata": {
        "id": "TRXJv4DOZgRm"
      },
      "execution_count": null,
      "outputs": []
    },
    {
      "cell_type": "markdown",
      "source": [
        "Generate random\n"
      ],
      "metadata": {
        "id": "sPBViO6XZ-G-"
      }
    },
    {
      "cell_type": "code",
      "source": [
        "a=torch.randint(low=0,high=10,size=(5,5))\n",
        "print(a) \n",
        "a=torch.randn((5,5))\n",
        "a"
      ],
      "metadata": {
        "id": "voET3PGeaGCg"
      },
      "execution_count": null,
      "outputs": []
    },
    {
      "cell_type": "code",
      "source": [
        "zero=torch.zeros((5,5,5))\n",
        "print(zero)\n",
        "one=torch.ones((5,5,5))\n",
        "one"
      ],
      "metadata": {
        "id": "-kSpbouLclTn"
      },
      "execution_count": null,
      "outputs": []
    },
    {
      "cell_type": "code",
      "source": [
        "print(\"cuda is_available \",torch.cuda.is_available())"
      ],
      "metadata": {
        "id": "jl3Fr-0BdhEt"
      },
      "execution_count": null,
      "outputs": []
    },
    {
      "cell_type": "code",
      "source": [
        "device=torch.device(\"cuda\") if torch.cuda.is_available() else torch.device(\"cpu\")\n",
        "device"
      ],
      "metadata": {
        "id": "l1DXnXzGgQE5"
      },
      "execution_count": null,
      "outputs": []
    },
    {
      "cell_type": "code",
      "source": [
        "a=torch.randn((5,5,5),device=device)\n",
        "a"
      ],
      "metadata": {
        "id": "kkL5Ztb0h-od"
      },
      "execution_count": null,
      "outputs": []
    },
    {
      "cell_type": "code",
      "source": [
        "\n",
        "a=torch.randn((5,5,5),dtype=torch.float32)\n",
        "print(a.ndim)\n",
        "print(a.shape)"
      ],
      "metadata": {
        "id": "8pDwrvFFjwjS"
      },
      "execution_count": null,
      "outputs": []
    },
    {
      "cell_type": "code",
      "source": [],
      "metadata": {
        "id": "h1zy2UBhk506"
      },
      "execution_count": null,
      "outputs": []
    },
    {
      "cell_type": "markdown",
      "source": [
        "element wise"
      ],
      "metadata": {
        "id": "ia5FxT4HLZ08"
      }
    },
    {
      "cell_type": "code",
      "source": [
        "a=torch.randint(low=0,high=10,size=(3,))\n",
        "a"
      ],
      "metadata": {
        "id": "T_sFhd8fLe2-"
      },
      "execution_count": null,
      "outputs": []
    },
    {
      "cell_type": "code",
      "source": [
        "a+5"
      ],
      "metadata": {
        "id": "JnvQb0nZMP1z"
      },
      "execution_count": null,
      "outputs": []
    },
    {
      "cell_type": "code",
      "source": [
        "a*5"
      ],
      "metadata": {
        "id": "ykJuup6ZMdVP"
      },
      "execution_count": null,
      "outputs": []
    },
    {
      "cell_type": "code",
      "source": [
        "b=torch.randint(low=0,high=10,size=(3,))\n",
        "b"
      ],
      "metadata": {
        "id": "nT87eqGSMgeC"
      },
      "execution_count": null,
      "outputs": []
    },
    {
      "cell_type": "code",
      "source": [
        "a*b"
      ],
      "metadata": {
        "id": "aKqiFI9hNgfp"
      },
      "execution_count": null,
      "outputs": []
    },
    {
      "cell_type": "code",
      "source": [
        "torch.mul(a,b)"
      ],
      "metadata": {
        "id": "JaFUpd3JNjGq"
      },
      "execution_count": null,
      "outputs": []
    },
    {
      "cell_type": "code",
      "source": [
        "torch.div(a,b)"
      ],
      "metadata": {
        "id": "qeDQIK_CPbC5"
      },
      "execution_count": null,
      "outputs": []
    },
    {
      "cell_type": "markdown",
      "source": [],
      "metadata": {
        "id": "O02zGEf2Z6KL"
      }
    },
    {
      "cell_type": "code",
      "source": [],
      "metadata": {
        "id": "zlcP_QQ1WEF_"
      },
      "execution_count": null,
      "outputs": []
    },
    {
      "cell_type": "markdown",
      "source": [
        "vector"
      ],
      "metadata": {
        "id": "yUrDWCmZWEfz"
      }
    },
    {
      "cell_type": "code",
      "source": [
        "b=torch.randint(low=0,high=10,size=(3,))\n",
        "a=torch.randint(low=0,high=10,size=(3,))\n",
        "print(torch.dot(a,b))\n",
        "print(torch.matmul(a,b))"
      ],
      "metadata": {
        "id": "-eLzGGDLVvvo"
      },
      "execution_count": null,
      "outputs": []
    },
    {
      "cell_type": "code",
      "source": [],
      "metadata": {
        "id": "ODC9LeibWCh9"
      },
      "execution_count": null,
      "outputs": []
    },
    {
      "cell_type": "markdown",
      "source": [
        "matrix"
      ],
      "metadata": {
        "id": "8bXsvEKhbIpn"
      }
    },
    {
      "cell_type": "code",
      "source": [
        "b=torch.randint(low=0,high=10,size=(3,5))\n",
        "a=torch.randint(low=0,high=10,size=(3,5))\n",
        "print(torch.mul(a,b))"
      ],
      "metadata": {
        "id": "pjG1moFSbKT6"
      },
      "execution_count": null,
      "outputs": []
    },
    {
      "cell_type": "code",
      "source": [
        "batch_size=32\n",
        "b=torch.randint(low=0,high=10,size=(batch_size,5,3))\n",
        "a=torch.randint(low=0,high=10,size=(batch_size,3,5))\n",
        "ab=torch.bmm(a,b)\n",
        "ab"
      ],
      "metadata": {
        "id": "0Oz9R0t_bZ4l"
      },
      "execution_count": null,
      "outputs": []
    },
    {
      "cell_type": "code",
      "source": [],
      "metadata": {
        "id": "WA5Z2gEKgBqA"
      },
      "execution_count": null,
      "outputs": []
    },
    {
      "cell_type": "markdown",
      "source": [
        "reshape\n"
      ],
      "metadata": {
        "id": "ga9mQANuh9Qc"
      }
    },
    {
      "cell_type": "code",
      "source": [
        "batc_size=128\n",
        "a=torch.randn(batch_size,25)\n",
        "a.view(batch_size,5,5).shape"
      ],
      "metadata": {
        "id": "ZloISUXvh_nG"
      },
      "execution_count": null,
      "outputs": []
    },
    {
      "cell_type": "code",
      "source": [
        "a.reshape(batch_size,5,5).shape"
      ],
      "metadata": {
        "id": "ceBQlm5ik7Ee"
      },
      "execution_count": null,
      "outputs": []
    },
    {
      "cell_type": "code",
      "source": [
        "a"
      ],
      "metadata": {
        "id": "zFx1MOgusRKa"
      },
      "execution_count": null,
      "outputs": []
    },
    {
      "cell_type": "code",
      "source": [
        "a.argmin(dim=0)"
      ],
      "metadata": {
        "id": "wHF2fNpWsWix"
      },
      "execution_count": null,
      "outputs": []
    },
    {
      "cell_type": "code",
      "source": [],
      "metadata": {
        "id": "K7p5fbwKtqZX"
      },
      "execution_count": null,
      "outputs": []
    },
    {
      "cell_type": "markdown",
      "source": [
        "in memory operation"
      ],
      "metadata": {
        "id": "BMWy1xuZtrLt"
      }
    },
    {
      "cell_type": "code",
      "source": [],
      "metadata": {
        "id": "4E6bPB48tuN0"
      },
      "execution_count": null,
      "outputs": []
    }
  ]
}