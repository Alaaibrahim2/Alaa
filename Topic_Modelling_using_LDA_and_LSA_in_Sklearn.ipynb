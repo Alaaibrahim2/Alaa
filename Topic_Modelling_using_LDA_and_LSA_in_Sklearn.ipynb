{
  "metadata": {
    "kernelspec": {
      "language": "python",
      "display_name": "Python 3",
      "name": "python3"
    },
    "language_info": {
      "name": "python",
      "version": "3.6.6",
      "mimetype": "text/x-python",
      "codemirror_mode": {
        "name": "ipython",
        "version": 3
      },
      "pygments_lexer": "ipython3",
      "nbconvert_exporter": "python",
      "file_extension": ".py"
    },
    "kaggle": {
      "accelerator": "nvidiaTeslaT4",
      "dataSources": [
        {
          "sourceId": 3782728,
          "sourceType": "datasetVersion",
          "datasetId": 1692
        }
      ],
      "dockerImageVersionId": 19667,
      "isInternetEnabled": false,
      "language": "python",
      "sourceType": "notebook",
      "isGpuEnabled": true
    },
    "colab": {
      "name": "Topic Modelling using LDA and LSA in Sklearn",
      "provenance": [],
      "include_colab_link": true
    }
  },
  "nbformat_minor": 0,
  "nbformat": 4,
  "cells": [
    {
      "cell_type": "markdown",
      "metadata": {
        "id": "view-in-github",
        "colab_type": "text"
      },
      "source": [
        "<a href=\"https://colab.research.google.com/github/Alaaibrahim2/Alaa/blob/main/Topic_Modelling_using_LDA_and_LSA_in_Sklearn.ipynb\" target=\"_parent\"><img src=\"https://colab.research.google.com/assets/colab-badge.svg\" alt=\"Open In Colab\"/></a>"
      ]
    },
    {
      "source": [
        "\n",
        "# IMPORTANT: RUN THIS CELL IN ORDER TO IMPORT YOUR KAGGLE DATA SOURCES\n",
        "# TO THE CORRECT LOCATION (/kaggle/input) IN YOUR NOTEBOOK,\n",
        "# THEN FEEL FREE TO DELETE THIS CELL.\n",
        "# NOTE: THIS NOTEBOOK ENVIRONMENT DIFFERS FROM KAGGLE'S PYTHON\n",
        "# ENVIRONMENT SO THERE MAY BE MISSING LIBRARIES USED BY YOUR\n",
        "# NOTEBOOK.\n",
        "\n",
        "import os\n",
        "import sys\n",
        "from tempfile import NamedTemporaryFile\n",
        "from urllib.request import urlopen\n",
        "from urllib.parse import unquote, urlparse\n",
        "from urllib.error import HTTPError\n",
        "from zipfile import ZipFile\n",
        "import tarfile\n",
        "import shutil\n",
        "\n",
        "CHUNK_SIZE = 40960\n",
        "DATA_SOURCE_MAPPING = ':https%3A%2F%2Fstorage.googleapis.com%2Fkaggle-data-sets%2F1692%2F3782728%2Fbundle%2Farchive.zip%3FX-Goog-Algorithm%3DGOOG4-RSA-SHA256%26X-Goog-Credential%3Dgcp-kaggle-com%2540kaggle-161607.iam.gserviceaccount.com%252F20240707%252Fauto%252Fstorage%252Fgoog4_request%26X-Goog-Date%3D20240707T132719Z%26X-Goog-Expires%3D259200%26X-Goog-SignedHeaders%3Dhost%26X-Goog-Signature%3D4170b7384fea7b2984a318dcdf31a766b2c6584c0d5a3533ed1c382c1fe7d3bb485c2d58399ef5f8415965c374bf7f58ea17f47edd10b33e20ac2485743ad1dceb3c5a3000987c579e8506c182b8ca3093e050e77ebcfbe2954c73eb6dfa72aa1ad735b463041f74d13be87998d2ee896a0369c6126f48ed6d6c07d25c96bcb52cae361d714eded64ab64e21375ceca921d715f18de2c39394b59068de1240074c851c8f70cfa6dc051f2b0a0295b5c2730c900a3eef971334196aef9a2f58b6af4b3bf6e9dd95b753d147701a593d87d4b52f8c525e34caf7885e484b80df14bae0a6c8827ddb22538fb72fe82dba3f604147df35cfd80ad966169f94d50150'\n",
        "\n",
        "KAGGLE_INPUT_PATH='/kaggle/input'\n",
        "KAGGLE_WORKING_PATH='/kaggle/working'\n",
        "KAGGLE_SYMLINK='kaggle'\n",
        "\n",
        "!umount /kaggle/input/ 2> /dev/null\n",
        "shutil.rmtree('/kaggle/input', ignore_errors=True)\n",
        "os.makedirs(KAGGLE_INPUT_PATH, 0o777, exist_ok=True)\n",
        "os.makedirs(KAGGLE_WORKING_PATH, 0o777, exist_ok=True)\n",
        "\n",
        "try:\n",
        "  os.symlink(KAGGLE_INPUT_PATH, os.path.join(\"..\", 'input'), target_is_directory=True)\n",
        "except FileExistsError:\n",
        "  pass\n",
        "try:\n",
        "  os.symlink(KAGGLE_WORKING_PATH, os.path.join(\"..\", 'working'), target_is_directory=True)\n",
        "except FileExistsError:\n",
        "  pass\n",
        "\n",
        "for data_source_mapping in DATA_SOURCE_MAPPING.split(','):\n",
        "    directory, download_url_encoded = data_source_mapping.split(':')\n",
        "    download_url = unquote(download_url_encoded)\n",
        "    filename = urlparse(download_url).path\n",
        "    destination_path = os.path.join(KAGGLE_INPUT_PATH, directory)\n",
        "    try:\n",
        "        with urlopen(download_url) as fileres, NamedTemporaryFile() as tfile:\n",
        "            total_length = fileres.headers['content-length']\n",
        "            print(f'Downloading {directory}, {total_length} bytes compressed')\n",
        "            dl = 0\n",
        "            data = fileres.read(CHUNK_SIZE)\n",
        "            while len(data) > 0:\n",
        "                dl += len(data)\n",
        "                tfile.write(data)\n",
        "                done = int(50 * dl / int(total_length))\n",
        "                sys.stdout.write(f\"\\r[{'=' * done}{' ' * (50-done)}] {dl} bytes downloaded\")\n",
        "                sys.stdout.flush()\n",
        "                data = fileres.read(CHUNK_SIZE)\n",
        "            if filename.endswith('.zip'):\n",
        "              with ZipFile(tfile) as zfile:\n",
        "                zfile.extractall(destination_path)\n",
        "            else:\n",
        "              with tarfile.open(tfile.name) as tarfile:\n",
        "                tarfile.extractall(destination_path)\n",
        "            print(f'\\nDownloaded and uncompressed: {directory}')\n",
        "    except HTTPError as e:\n",
        "        print(f'Failed to load (likely expired) {download_url} to path {destination_path}')\n",
        "        continue\n",
        "    except OSError as e:\n",
        "        print(f'Failed to load {download_url} to path {destination_path}')\n",
        "        continue\n",
        "\n",
        "print('Data source import complete.')\n"
      ],
      "metadata": {
        "id": "TzIoPKjNYKw5"
      },
      "cell_type": "code",
      "outputs": [],
      "execution_count": null
    },
    {
      "cell_type": "markdown",
      "source": [
        "## Topic Modelling using Latent Semantic Analysis (LSA) and Latent Dirichlet Allocation (LDA) in sklearn"
      ],
      "metadata": {
        "_uuid": "9341bf79ac503efb2b0c19cae84b17b48c30e211",
        "id": "o7sLA-toYKw8"
      }
    },
    {
      "cell_type": "code",
      "source": [],
      "metadata": {
        "_uuid": "e5d7c8f848246a160104b0002220baf4c95e9eb2",
        "id": "n07X6hy7YKw9"
      },
      "execution_count": null,
      "outputs": []
    },
    {
      "cell_type": "markdown",
      "source": [
        "### **There also exists implementation using the Gensim library. Checkout the same [here](https://www.analyticsvidhya.com/blog/2016/08/beginners-guide-to-topic-modeling-in-python/)  ,   [here](https://nlpforhackers.io/topic-modeling/) and [here](https://www.machinelearningplus.com/nlp/topic-modeling-gensim-python/) and also in [this](https://github.com/susanli2016/NLP-with-Python/blob/master/LDA_news_headlines.ipynb) notebook.**"
      ],
      "metadata": {
        "_uuid": "3f9de996a68ce9d21cb302f795a0c8f667784879",
        "id": "c0Sw-InRYKw9"
      }
    },
    {
      "cell_type": "code",
      "source": [],
      "metadata": {
        "_uuid": "290af1f20803420483653e4e447732f4658900ec",
        "id": "pZ-HzX8YYKw9"
      },
      "execution_count": null,
      "outputs": []
    },
    {
      "cell_type": "markdown",
      "source": [
        "## [Please star/upvote in case u like it. ]"
      ],
      "metadata": {
        "_uuid": "827e42f1d6fbd87d0858fd90555a280782a2ed73",
        "id": "4a_7fMwdYKw-"
      }
    },
    {
      "cell_type": "code",
      "source": [],
      "metadata": {
        "_uuid": "87d8d19cf6c49e0af3e33f6ccd77bad5ec5f46a6",
        "id": "FqQjh1oIYKw-"
      },
      "execution_count": null,
      "outputs": []
    },
    {
      "cell_type": "markdown",
      "source": [
        "#### IMPORTING MODULES"
      ],
      "metadata": {
        "_uuid": "6a503c2851673a3d3ec1eb2c3d6c6e5566292af1",
        "id": "ZxlCp8k9YKw-"
      }
    },
    {
      "cell_type": "code",
      "source": [
        "# data visualisation and manipulation\n",
        "import numpy as np\n",
        "import pandas as pd\n",
        "import matplotlib.pyplot as plt\n",
        "from matplotlib import style\n",
        "import seaborn as sns\n",
        "#configure\n",
        "# sets matplotlib to inline and displays graphs below the corressponding cell.\n",
        "%matplotlib inline\n",
        "style.use('fivethirtyeight')\n",
        "sns.set(style='whitegrid',color_codes=True)\n",
        "\n",
        "#import nltk\n",
        "import nltk\n",
        "from nltk.corpus import stopwords\n",
        "from nltk.tokenize import word_tokenize,sent_tokenize\n",
        "\n",
        "#preprocessing\n",
        "from nltk.corpus import stopwords  #stopwords\n",
        "from nltk import word_tokenize,sent_tokenize # tokenizing\n",
        "from nltk.stem import PorterStemmer,LancasterStemmer  # using the Porter Stemmer and Lancaster Stemmer and others\n",
        "from nltk.stem.snowball import SnowballStemmer\n",
        "from nltk.stem import WordNetLemmatizer  # lammatizer from WordNet\n",
        "\n",
        "# for named entity recognition (NER)\n",
        "from nltk import ne_chunk\n",
        "\n",
        "# vectorizers for creating the document-term-matrix (DTM)\n",
        "from sklearn.feature_extraction.text import TfidfVectorizer,CountVectorizer\n",
        "\n",
        "#stop-words\n",
        "stop_words=set(nltk.corpus.stopwords.words('english'))"
      ],
      "metadata": {
        "id": "5O5_-2kTGD6V",
        "_uuid": "39f140e85d319161012fb67f258dd6b339545b0a",
        "execution": {
          "iopub.status.busy": "2024-07-07T13:26:31.006079Z",
          "iopub.execute_input": "2024-07-07T13:26:31.00632Z",
          "iopub.status.idle": "2024-07-07T13:26:33.854252Z",
          "shell.execute_reply.started": "2024-07-07T13:26:31.006265Z",
          "shell.execute_reply": "2024-07-07T13:26:33.85363Z"
        },
        "trusted": true
      },
      "execution_count": null,
      "outputs": []
    },
    {
      "cell_type": "code",
      "source": [],
      "metadata": {
        "_uuid": "fd492c7bc386ce83719ea3172baf526b9acaaecb",
        "trusted": true,
        "id": "AyuoWRYxYKw_"
      },
      "execution_count": null,
      "outputs": []
    },
    {
      "cell_type": "markdown",
      "source": [
        "#### LOADING THE DATASET"
      ],
      "metadata": {
        "_uuid": "a2b520342f1761de78285e76aa6327d9d37b1f4e",
        "id": "AqrVn_xvYKw_"
      }
    },
    {
      "cell_type": "code",
      "source": [
        "df=pd.read_csv(r'../input/abcnews-date-text.csv')"
      ],
      "metadata": {
        "id": "xaPWCpthHVIS",
        "_uuid": "aad495ed355e99947bc3b9816cfad0ff430c17e5",
        "execution": {
          "iopub.status.busy": "2024-07-07T13:25:37.868468Z",
          "iopub.execute_input": "2024-07-07T13:25:37.868799Z",
          "iopub.status.idle": "2024-07-07T13:25:39.904409Z",
          "shell.execute_reply.started": "2024-07-07T13:25:37.868734Z",
          "shell.execute_reply": "2024-07-07T13:25:39.903526Z"
        },
        "trusted": true
      },
      "execution_count": null,
      "outputs": []
    },
    {
      "cell_type": "code",
      "source": [
        "df.head()"
      ],
      "metadata": {
        "id": "Wwf4uKjTIYm2",
        "outputId": "9fac48b8-49af-44ff-f06b-d4b7440110b7",
        "_uuid": "e09dd69ffa2bae1920f3e10b1af0a8ce0f8ae16d",
        "execution": {
          "iopub.status.busy": "2024-07-07T13:25:39.90578Z",
          "iopub.execute_input": "2024-07-07T13:25:39.906027Z",
          "iopub.status.idle": "2024-07-07T13:25:39.935847Z",
          "shell.execute_reply.started": "2024-07-07T13:25:39.905985Z",
          "shell.execute_reply": "2024-07-07T13:25:39.934786Z"
        },
        "trusted": true
      },
      "execution_count": null,
      "outputs": [
        {
          "execution_count": 4,
          "output_type": "execute_result",
          "data": {
            "text/plain": "   publish_date                                      headline_text\n0      20030219  aba decides against community broadcasting lic...\n1      20030219     act fire witnesses must be aware of defamation\n2      20030219     a g calls for infrastructure protection summit\n3      20030219           air nz staff in aust strike for pay rise\n4      20030219      air nz strike to affect australian travellers",
            "text/html": "<div>\n<style scoped>\n    .dataframe tbody tr th:only-of-type {\n        vertical-align: middle;\n    }\n\n    .dataframe tbody tr th {\n        vertical-align: top;\n    }\n\n    .dataframe thead th {\n        text-align: right;\n    }\n</style>\n<table border=\"1\" class=\"dataframe\">\n  <thead>\n    <tr style=\"text-align: right;\">\n      <th></th>\n      <th>publish_date</th>\n      <th>headline_text</th>\n    </tr>\n  </thead>\n  <tbody>\n    <tr>\n      <th>0</th>\n      <td>20030219</td>\n      <td>aba decides against community broadcasting lic...</td>\n    </tr>\n    <tr>\n      <th>1</th>\n      <td>20030219</td>\n      <td>act fire witnesses must be aware of defamation</td>\n    </tr>\n    <tr>\n      <th>2</th>\n      <td>20030219</td>\n      <td>a g calls for infrastructure protection summit</td>\n    </tr>\n    <tr>\n      <th>3</th>\n      <td>20030219</td>\n      <td>air nz staff in aust strike for pay rise</td>\n    </tr>\n    <tr>\n      <th>4</th>\n      <td>20030219</td>\n      <td>air nz strike to affect australian travellers</td>\n    </tr>\n  </tbody>\n</table>\n</div>"
          },
          "metadata": {}
        }
      ]
    },
    {
      "cell_type": "code",
      "source": [],
      "metadata": {
        "_uuid": "dcaba93fba40631607159165262af6cb846fa501",
        "id": "QKoZId6IYKxA"
      },
      "execution_count": null,
      "outputs": []
    },
    {
      "cell_type": "markdown",
      "source": [
        "We will drop the **'publish_date'** column as it is useless for our discussion."
      ],
      "metadata": {
        "_uuid": "ece312ea148c498c5584e83f6a36fce2dc236198",
        "id": "2oXab2M5YKxA"
      }
    },
    {
      "cell_type": "code",
      "source": [
        "# drop the publish date.\n",
        "df.drop(['publish_date'],axis=1,inplace=True)"
      ],
      "metadata": {
        "id": "wiuusKeEIr_o",
        "_uuid": "2a6df530624e3b9c3cfb43659ba9c0f67e2aa1d4",
        "execution": {
          "iopub.status.busy": "2024-07-07T13:25:39.93708Z",
          "iopub.execute_input": "2024-07-07T13:25:39.937363Z",
          "iopub.status.idle": "2024-07-07T13:25:39.966449Z",
          "shell.execute_reply.started": "2024-07-07T13:25:39.937315Z",
          "shell.execute_reply": "2024-07-07T13:25:39.96564Z"
        },
        "trusted": true
      },
      "execution_count": null,
      "outputs": []
    },
    {
      "cell_type": "code",
      "source": [
        "df.head(10)"
      ],
      "metadata": {
        "id": "FxegmHWtI3eJ",
        "outputId": "d0d3d76b-982e-422a-cdab-e05dfa72c536",
        "_uuid": "bd907b93c352fce35e8e6a886c01e9cf344ce455",
        "execution": {
          "iopub.status.busy": "2024-07-07T13:25:39.967943Z",
          "iopub.execute_input": "2024-07-07T13:25:39.968214Z",
          "iopub.status.idle": "2024-07-07T13:25:39.980106Z",
          "shell.execute_reply.started": "2024-07-07T13:25:39.968153Z",
          "shell.execute_reply": "2024-07-07T13:25:39.979407Z"
        },
        "trusted": true
      },
      "execution_count": null,
      "outputs": [
        {
          "execution_count": 6,
          "output_type": "execute_result",
          "data": {
            "text/plain": "                                       headline_text\n0  aba decides against community broadcasting lic...\n1     act fire witnesses must be aware of defamation\n2     a g calls for infrastructure protection summit\n3           air nz staff in aust strike for pay rise\n4      air nz strike to affect australian travellers\n5                  ambitious olsson wins triple jump\n6         antic delighted with record breaking barca\n7  aussie qualifier stosur wastes four memphis match\n8       aust addresses un security council over iraq\n9         australia is locked into war timetable opp",
            "text/html": "<div>\n<style scoped>\n    .dataframe tbody tr th:only-of-type {\n        vertical-align: middle;\n    }\n\n    .dataframe tbody tr th {\n        vertical-align: top;\n    }\n\n    .dataframe thead th {\n        text-align: right;\n    }\n</style>\n<table border=\"1\" class=\"dataframe\">\n  <thead>\n    <tr style=\"text-align: right;\">\n      <th></th>\n      <th>headline_text</th>\n    </tr>\n  </thead>\n  <tbody>\n    <tr>\n      <th>0</th>\n      <td>aba decides against community broadcasting lic...</td>\n    </tr>\n    <tr>\n      <th>1</th>\n      <td>act fire witnesses must be aware of defamation</td>\n    </tr>\n    <tr>\n      <th>2</th>\n      <td>a g calls for infrastructure protection summit</td>\n    </tr>\n    <tr>\n      <th>3</th>\n      <td>air nz staff in aust strike for pay rise</td>\n    </tr>\n    <tr>\n      <th>4</th>\n      <td>air nz strike to affect australian travellers</td>\n    </tr>\n    <tr>\n      <th>5</th>\n      <td>ambitious olsson wins triple jump</td>\n    </tr>\n    <tr>\n      <th>6</th>\n      <td>antic delighted with record breaking barca</td>\n    </tr>\n    <tr>\n      <th>7</th>\n      <td>aussie qualifier stosur wastes four memphis match</td>\n    </tr>\n    <tr>\n      <th>8</th>\n      <td>aust addresses un security council over iraq</td>\n    </tr>\n    <tr>\n      <th>9</th>\n      <td>australia is locked into war timetable opp</td>\n    </tr>\n  </tbody>\n</table>\n</div>"
          },
          "metadata": {}
        }
      ]
    },
    {
      "cell_type": "code",
      "source": [],
      "metadata": {
        "_uuid": "81bc140459be85e40f5400b6e26c126385a3d4c6",
        "id": "r1nLrvxxYKxA"
      },
      "execution_count": null,
      "outputs": []
    },
    {
      "cell_type": "markdown",
      "source": [
        "#### DATA CLEANING & PRE-PROCESSING"
      ],
      "metadata": {
        "_uuid": "2043c3fc7cb55f29282da53bf8ce8315aec19556",
        "id": "UPJELC8kYKxB"
      }
    },
    {
      "cell_type": "markdown",
      "source": [
        "Here I have done the data pre-processing. I have used the lemmatizer and can also use the stemmer. Also the stop words have been used along with the words wit lenght shorter than 3 characters to reduce some stray words."
      ],
      "metadata": {
        "_uuid": "dbd9e74a45cef82d83251327066f919c2a7ee08b",
        "id": "poNfN_YhYKxB"
      }
    },
    {
      "cell_type": "code",
      "source": [
        "def clean_text(headline):\n",
        "  le=WordNetLemmatizer()\n",
        "  word_tokens=word_tokenize(headline)\n",
        "  tokens=[le.lemmatize(w) for w in word_tokens if w not in stop_words and len(w)>3]\n",
        "  cleaned_text=\" \".join(tokens)\n",
        "  return cleaned_text\n",
        "\n",
        ""
      ],
      "metadata": {
        "id": "10MF-YmnI7vp",
        "_uuid": "c01abf16fc6c3b72873a40246d88f4f2d84af6a6",
        "execution": {
          "iopub.status.busy": "2024-07-07T13:25:39.981624Z",
          "iopub.execute_input": "2024-07-07T13:25:39.98187Z",
          "iopub.status.idle": "2024-07-07T13:25:39.989101Z",
          "shell.execute_reply.started": "2024-07-07T13:25:39.981825Z",
          "shell.execute_reply": "2024-07-07T13:25:39.988305Z"
        },
        "trusted": true
      },
      "execution_count": null,
      "outputs": []
    },
    {
      "cell_type": "code",
      "source": [
        "# time taking\n",
        "df['headline_cleaned_text']=df['headline_text'].apply(clean_text)"
      ],
      "metadata": {
        "id": "J9cX-1YxSisp",
        "_uuid": "0249f1e9dc0d448aa55778d88b17380cbb099b27",
        "execution": {
          "iopub.status.busy": "2024-07-07T13:25:39.990308Z",
          "iopub.execute_input": "2024-07-07T13:25:39.990564Z"
        },
        "trusted": true
      },
      "execution_count": null,
      "outputs": []
    },
    {
      "cell_type": "code",
      "source": [
        "df.head()"
      ],
      "metadata": {
        "id": "Qw6e2o8SSzi2",
        "_uuid": "c81efcbf76b11b4a08c18e4ce6147fa35bfd2348",
        "trusted": true
      },
      "execution_count": null,
      "outputs": []
    },
    {
      "cell_type": "markdown",
      "source": [
        "Can see the difference after removal of stopwords and some shorter words. aslo the words have been lemmatized as in **'calls'--->'call'.**"
      ],
      "metadata": {
        "id": "Wuos0NVsVJFg",
        "_uuid": "79d7fa2c195ec7a4b5410885cea4dbc7e58db316"
      }
    },
    {
      "cell_type": "code",
      "source": [],
      "metadata": {
        "_uuid": "40712caac928c4a299e7fce7d759f3e9e5555c61",
        "id": "sC7OEf3LYKxB"
      },
      "execution_count": null,
      "outputs": []
    },
    {
      "cell_type": "markdown",
      "source": [
        "Now drop the unpre-processed column."
      ],
      "metadata": {
        "id": "RDqxfd7VVhJx",
        "_uuid": "c46d3085571e5bd3224bfb6a51164816a5e2a613"
      }
    },
    {
      "cell_type": "code",
      "source": [
        "df.drop(['headline_text'],axis=1,inplace=True)"
      ],
      "metadata": {
        "id": "PTkgClkxV7MP",
        "_uuid": "64cc5de96668ec6e6f37cefb31c349f35ff81771",
        "trusted": true
      },
      "execution_count": null,
      "outputs": []
    },
    {
      "cell_type": "code",
      "source": [
        "df.head()"
      ],
      "metadata": {
        "id": "PHPX62iRV_ux",
        "_uuid": "dc01093ea4f6bd35e492e5136bec2ef90f8a1bf5",
        "trusted": true
      },
      "execution_count": null,
      "outputs": []
    },
    {
      "cell_type": "code",
      "source": [],
      "metadata": {
        "_uuid": "9338f9639490e9ef06a76ed818db757d83d6c582",
        "id": "maHh9XjfYKxC"
      },
      "execution_count": null,
      "outputs": []
    },
    {
      "cell_type": "markdown",
      "source": [
        "We can also see any particular news headline."
      ],
      "metadata": {
        "_uuid": "ac1c4d306d9c1ea25c1b28250b386a8d8fde4134",
        "id": "kgHspWElYKxC"
      }
    },
    {
      "cell_type": "code",
      "source": [
        "df['headline_cleaned_text'][0]"
      ],
      "metadata": {
        "id": "zlVvCr7qWkqA",
        "_uuid": "219d5fa37fbffff1c1acdeb46722a40cee1842a2",
        "trusted": true
      },
      "execution_count": null,
      "outputs": []
    },
    {
      "cell_type": "code",
      "source": [],
      "metadata": {
        "_uuid": "feacf23db532c748405fc7b908de218f2511b931",
        "id": "qxJ4G1-MYKxC"
      },
      "execution_count": null,
      "outputs": []
    },
    {
      "cell_type": "markdown",
      "source": [
        "#### EXTRACTING THE FEATURES AND CREATING THE DOCUMENT-TERM-MATRIX ( DTM )\n",
        "\n",
        "In DTM the values are the TFidf values.\n",
        "\n",
        "Also I have specified some parameters of the Tfidf vectorizer.\n",
        "\n",
        "Some important points:-\n",
        "\n",
        "**1) LSA is generally implemented with Tfidf values everywhere and not with the Count Vectorizer.**\n",
        "\n",
        "**2) max_features depends on your computing power and also on eval. metric (coherence score is a metric for topic model). Try the value that gives best eval. metric and doesn't limits processing power.**\n",
        "\n",
        "**3) Default values for min_df & max_df worked well.**\n",
        "\n",
        "**4) Can try different values for ngram_range.**"
      ],
      "metadata": {
        "id": "yQZpp5YMXPkb",
        "_uuid": "d36edc03b2cc88ef61651cd6c9deb470817e64df"
      }
    },
    {
      "cell_type": "code",
      "source": [
        "vect =TfidfVectorizer(stop_words=stop_words,max_features=1000) # to play with. min_df,max_df,max_features etc..."
      ],
      "metadata": {
        "id": "UUxESGqhXX07",
        "_uuid": "d3998f5b7d7eaed5d18d08830d2ba9ba8dd7fcd6",
        "trusted": true
      },
      "execution_count": null,
      "outputs": []
    },
    {
      "cell_type": "code",
      "source": [
        "vect_text=vect.fit_transform(df['headline_cleaned_text'])"
      ],
      "metadata": {
        "id": "z0CezNO4aUoh",
        "_uuid": "00cdefa5281e43ed4cd28af256490cf3cf4dbaf2",
        "trusted": true
      },
      "execution_count": null,
      "outputs": []
    },
    {
      "cell_type": "code",
      "source": [],
      "metadata": {
        "_uuid": "1fda68dd69c429fff879d660aa0ec7dccec18a64",
        "id": "gJsCRE5sYKxC"
      },
      "execution_count": null,
      "outputs": []
    },
    {
      "cell_type": "markdown",
      "source": [
        "#### We can now see the most frequent and rare words in the news headlines based on idf score. The lesser the value; more common is the word in the news headlines."
      ],
      "metadata": {
        "_uuid": "bb0975cb5ba0e82f9e14eba53bd466c26b892a7e",
        "id": "pqg0tjoDYKxC"
      }
    },
    {
      "cell_type": "code",
      "source": [
        "print(vect_text.shape)\n",
        "print(vect_text)"
      ],
      "metadata": {
        "id": "5G-Zt5lUsUjx",
        "_uuid": "a75bc1a06e66fa4c8615822f703487424761570b",
        "trusted": true
      },
      "execution_count": null,
      "outputs": []
    },
    {
      "cell_type": "code",
      "source": [
        "idf=vect.idf_"
      ],
      "metadata": {
        "id": "zbF-rC1va7tP",
        "_uuid": "fdf6846bf90d386f8361467a420af9b40b689521",
        "trusted": true
      },
      "execution_count": null,
      "outputs": []
    },
    {
      "cell_type": "code",
      "source": [
        "dd=dict(zip(vect.get_feature_names(), idf))\n",
        "l=sorted(dd, key=(dd).get)\n",
        "# print(l)\n",
        "print(l[0],l[-1])\n",
        "print(dd['police'])\n",
        "print(dd['forecast'])  # police is most common and forecast is least common among the news headlines."
      ],
      "metadata": {
        "id": "a0wQG_tZm53A",
        "_uuid": "b5dc9f0d99d949a36cdb00be41b5ba4a424f093c",
        "trusted": true
      },
      "execution_count": null,
      "outputs": []
    },
    {
      "cell_type": "markdown",
      "source": [
        "We can therefore see that on the basis of the **idf value** , **'police'** is the **most frequent** word while **'forecast'** is **least frequently** occuring among the news."
      ],
      "metadata": {
        "_uuid": "868e6b05bc280289edea4e14b31c98a435d8ebbc",
        "id": "nv5l3MXSYKxG"
      }
    },
    {
      "cell_type": "code",
      "source": [],
      "metadata": {
        "_uuid": "c2ed01a1ea2413b95aa748487111c0ca6cc4e7ec",
        "id": "y7j3eAMHYKxG"
      },
      "execution_count": null,
      "outputs": []
    },
    {
      "cell_type": "markdown",
      "source": [
        "### TOPIC MODELLING"
      ],
      "metadata": {
        "_uuid": "3b96bb00ba3313b3fcab6735e73c56e89fc74365",
        "id": "nKvP64ctYKxG"
      }
    },
    {
      "cell_type": "code",
      "source": [],
      "metadata": {
        "_uuid": "4ce3e769f54ef00290465cd8b1d7bd4089df71ea",
        "id": "DiL200RzYKxG"
      },
      "execution_count": null,
      "outputs": []
    },
    {
      "cell_type": "markdown",
      "source": [
        "## Latent Semantic Analysis (LSA)"
      ],
      "metadata": {
        "_uuid": "0bad03b7f6b2b69cd4554ec9e7681b430dfe4e10",
        "id": "RRcQwIOtYKxG"
      }
    },
    {
      "cell_type": "markdown",
      "source": [
        "The first approach that I have used is the LSA. **LSA is basically singular value decomposition.**\n",
        "\n",
        "**SVD decomposes the original DTM into three matrices S=U.(sigma).(V.T). Here the matrix U denotes the document-topic matrix while (V) is the topic-term matrix.**\n",
        "\n",
        "**Each row of the matrix U(document-term matrix) is the vector representation of the corresponding document. The length of these vectors is the number of desired topics. Vector representation for the terms in our data can be found in the matrix V (term-topic matrix).**\n",
        "\n",
        "So, SVD gives us vectors for every document and term in our data. The length of each vector would be k. **We can then use these vectors to find similar words and similar documents using the cosine similarity method.**\n",
        "\n",
        "We can use the truncatedSVD function to implement LSA. The n_components parameter is the number of topics we wish to extract.\n",
        "The model is then fit and transformed on the result given by vectorizer.\n",
        "\n",
        "**Lastly note that LSA and LSI (I for indexing) are the same and the later is just sometimes used in information retrieval contexts.**"
      ],
      "metadata": {
        "_uuid": "c0d4b13524635aefa5e44f780efeec9b55ca6e58",
        "id": "QZC3j4LDYKxG"
      }
    },
    {
      "cell_type": "code",
      "source": [
        "from sklearn.decomposition import TruncatedSVD\n",
        "lsa_model = TruncatedSVD(n_components=10, algorithm='randomized', n_iter=10, random_state=42)\n",
        "\n",
        "lsa_top=lsa_model.fit_transform(vect_text)\n"
      ],
      "metadata": {
        "id": "9xuGfFdtqTp5",
        "_uuid": "ac483df5e69eeb2b4b71af956c6987896eda7eb6",
        "trusted": true
      },
      "execution_count": null,
      "outputs": []
    },
    {
      "cell_type": "code",
      "source": [
        "print(lsa_top)\n",
        "print(lsa_top.shape)  # (no_of_doc*no_of_topics)"
      ],
      "metadata": {
        "id": "KdaVWPC6xmq-",
        "_uuid": "0a8f4620d3c71db1275e4b5662bf4ab32c598266",
        "trusted": true
      },
      "execution_count": null,
      "outputs": []
    },
    {
      "cell_type": "code",
      "source": [
        "l=lsa_top[0]\n",
        "print(\"Document 0 :\")\n",
        "for i,topic in enumerate(l):\n",
        "  print(\"Topic \",i,\" : \",topic*100)\n",
        "\n"
      ],
      "metadata": {
        "id": "d4dvIGIGxtAI",
        "_uuid": "2a259e5f3b8c11118368439eea8de0faa8b7a1c2",
        "trusted": true
      },
      "execution_count": null,
      "outputs": []
    },
    {
      "cell_type": "markdown",
      "source": [
        "Similalry for other documents we can do this. However note that values dont add to 1 as in LSA it is not probabiltiy of a topic in a document."
      ],
      "metadata": {
        "_uuid": "2153bcbf45e7623efc213bb94f0dbba377ff34c3",
        "id": "7pqiZc42YKxH"
      }
    },
    {
      "cell_type": "code",
      "source": [
        "print(lsa_model.components_.shape) # (no_of_topics*no_of_words)\n",
        "print(lsa_model.components_)"
      ],
      "metadata": {
        "id": "AI2kOuwitOGp",
        "_uuid": "61bb8ff8b4b6cf0cd2fcde7890f3a3ebb8980452",
        "trusted": true
      },
      "execution_count": null,
      "outputs": []
    },
    {
      "cell_type": "code",
      "source": [],
      "metadata": {
        "_uuid": "6f834000fa7b2f294694572fda0bcf56d25badd6",
        "id": "Vb6_WCDYYKxH"
      },
      "execution_count": null,
      "outputs": []
    },
    {
      "cell_type": "markdown",
      "source": [
        "#### Now e can get a list of the important words for each of the 10 topics as shown. For simplicity here I have shown 10 words for each topic."
      ],
      "metadata": {
        "_uuid": "a289f6e017d0c573d20ed386582df71437fab5cc",
        "id": "R5mCCO5XYKxH"
      }
    },
    {
      "cell_type": "code",
      "source": [
        "# most important words for each topic\n",
        "vocab = vect.get_feature_names()\n",
        "\n",
        "for i, comp in enumerate(lsa_model.components_):\n",
        "    vocab_comp = zip(vocab, comp)\n",
        "    sorted_words = sorted(vocab_comp, key= lambda x:x[1], reverse=True)[:10]\n",
        "    print(\"Topic \"+str(i)+\": \")\n",
        "    for t in sorted_words:\n",
        "        print(t[0],end=\" \")\n",
        "    print(\"\\n\")\n",
        ""
      ],
      "metadata": {
        "id": "GMMmSTbQqfdz",
        "_uuid": "c9860197f6d11e5583629cca322e19a93d4c0350",
        "trusted": true
      },
      "execution_count": null,
      "outputs": []
    },
    {
      "cell_type": "code",
      "source": [],
      "metadata": {
        "_uuid": "15fc699124fc73b2974081fd6e85752cbd9cd440",
        "id": "l7Mb7CgOYKxH"
      },
      "execution_count": null,
      "outputs": []
    },
    {
      "cell_type": "markdown",
      "source": [
        "## Latent Dirichlet Allocation (LDA)  "
      ],
      "metadata": {
        "id": "gmMeb4METhm2",
        "_uuid": "2898911f7af52671923cf6bbc8cab6bc7871aa59"
      }
    },
    {
      "cell_type": "markdown",
      "source": [
        "LDA is the most popular technique.**The topics then generate words based on their probability distribution. Given a dataset of documents, LDA backtracks and tries to figure out what topics would create those documents in the first place.**\n",
        "\n",
        "**To understand the maths it seems as if knowledge of Dirichlet distribution (distribution of distributions) is required which is quite intricate and left fior now.**\n",
        "\n",
        "To get an inituitive explanation of LDA checkout these blogs: [this](https://www.analyticsvidhya.com/blog/2016/08/beginners-guide-to-topic-modeling-in-python/)  ,  [this](https://tedunderwood.com/2012/04/07/topic-modeling-made-just-simple-enough/)  ,[this](https://en.wikipedia.org/wiki/Topic_model)  ,  [this kernel on Kaggle](https://www.kaggle.com/arthurtok/spooky-nlp-and-topic-modelling-tutorial)  ,  [this](http://blog.echen.me/2011/08/22/introduction-to-latent-dirichlet-allocation/) ."
      ],
      "metadata": {
        "_uuid": "dd861ec68f8272be78421f8bd76b98793009e836",
        "id": "33aHthR5YKxH"
      }
    },
    {
      "cell_type": "code",
      "source": [
        "from sklearn.decomposition import LatentDirichletAllocation\n",
        "lda_model=LatentDirichletAllocation(n_components=10,learning_method='online',random_state=42,max_iter=1)\n",
        "# n_components is the number of topics"
      ],
      "metadata": {
        "id": "yPJFHVxxTiwh",
        "_uuid": "b21a29802cac8f469c65df49ba0ef04f592f3202",
        "trusted": true
      },
      "execution_count": null,
      "outputs": []
    },
    {
      "cell_type": "code",
      "source": [
        "lda_top=lda_model.fit_transform(vect_text)"
      ],
      "metadata": {
        "id": "aeUPTUUIazvB",
        "_uuid": "8c0169b02a356e8cf8583218437d23f549c1e3da",
        "trusted": true
      },
      "execution_count": null,
      "outputs": []
    },
    {
      "cell_type": "code",
      "source": [
        "print(lda_top.shape)  # (no_of_doc,no_of_topics)\n",
        "print(lda_top)\n"
      ],
      "metadata": {
        "id": "h8LzsFixdkBt",
        "_uuid": "77425315af5c000fa30caefd6dcebb70c2970cfa",
        "trusted": true
      },
      "execution_count": null,
      "outputs": []
    },
    {
      "cell_type": "code",
      "source": [
        "sum=0\n",
        "for i in lda_top[0]:\n",
        "  sum=sum+i\n",
        "print(sum)"
      ],
      "metadata": {
        "id": "YNgP0S0eeVuO",
        "_uuid": "2fc450b8316e62d050eb702b65eddbb1e898248f",
        "trusted": true
      },
      "execution_count": null,
      "outputs": []
    },
    {
      "cell_type": "markdown",
      "source": [
        "#### Note that the values in a particular row adds to 1. This is beacuse each value denotes the % of contribution of the corressponding topic in the document."
      ],
      "metadata": {
        "_uuid": "0f6d8a55e8a513a9af61ae480eae5a0e2135f182",
        "id": "ra2Ovyr8YKxI"
      }
    },
    {
      "cell_type": "code",
      "source": [
        "# composition of doc 0 for eg\n",
        "print(\"Document 0: \")\n",
        "for i,topic in enumerate(lda_top[0]):\n",
        "  print(\"Topic \",i,\": \",topic*100,\"%\")"
      ],
      "metadata": {
        "id": "Z6WmZLp3ehbY",
        "_uuid": "d896b8fcf2c398367de4e7b7142e144fb4944f2d",
        "trusted": true
      },
      "execution_count": null,
      "outputs": []
    },
    {
      "cell_type": "markdown",
      "source": [
        "#### As we can see Topic 7 & 8 are dominantly present in document 0.\n",
        "\n",
        ""
      ],
      "metadata": {
        "id": "NVgtw_L_g8N2",
        "_uuid": "d24927b415ef64338a4b99e81c9cafd5225dfae5"
      }
    },
    {
      "cell_type": "code",
      "source": [
        "print(lda_model.components_)\n",
        "print(lda_model.components_.shape)  # (no_of_topics*no_of_words)"
      ],
      "metadata": {
        "id": "6OFxmyReiZIU",
        "_uuid": "3ee132a423ca0bfe3107fa3dd2652d6c33d5bc4d",
        "trusted": true
      },
      "execution_count": null,
      "outputs": []
    },
    {
      "cell_type": "markdown",
      "source": [
        "#### Most important words for a topic. (say 10 this time.)"
      ],
      "metadata": {
        "id": "NoEr9qt1jgsM",
        "_uuid": "8bf169b07cefbe2cd8e36bc1e2bd65ca7c398374"
      }
    },
    {
      "cell_type": "code",
      "source": [
        "# most important words for each topic\n",
        "vocab = vect.get_feature_names()\n",
        "\n",
        "for i, comp in enumerate(lda_model.components_):\n",
        "    vocab_comp = zip(vocab, comp)\n",
        "    sorted_words = sorted(vocab_comp, key= lambda x:x[1], reverse=True)[:10]\n",
        "    print(\"Topic \"+str(i)+\": \")\n",
        "    for t in sorted_words:\n",
        "        print(t[0],end=\" \")\n",
        "    print(\"\\n\")"
      ],
      "metadata": {
        "id": "hKJHM0C-l0an",
        "_uuid": "5c13c5563657ac5103a33615272320065542fb40",
        "trusted": true
      },
      "execution_count": null,
      "outputs": []
    },
    {
      "cell_type": "code",
      "source": [],
      "metadata": {
        "_uuid": "a094d2d6e95dc236b2bd3d70c69d1b3767cb4cea",
        "id": "P9rQ0lOBYKxJ"
      },
      "execution_count": null,
      "outputs": []
    },
    {
      "cell_type": "markdown",
      "source": [
        "#### To better visualize words in a topic we can see the word cloud. For each topic top 50 words are plotted."
      ],
      "metadata": {
        "_uuid": "854f0eb88cf78923db8137a2f41581eb9bbd5592",
        "id": "2xI6f83dYKxJ"
      }
    },
    {
      "cell_type": "code",
      "source": [
        "from wordcloud import WordCloud\n",
        "# Generate a word cloud image for given topic\n",
        "def draw_word_cloud(index):\n",
        "  imp_words_topic=\"\"\n",
        "  comp=lda_model.components_[index]\n",
        "  vocab_comp = zip(vocab, comp)\n",
        "  sorted_words = sorted(vocab_comp, key= lambda x:x[1], reverse=True)[:50]\n",
        "  for word in sorted_words:\n",
        "    imp_words_topic=imp_words_topic+\" \"+word[0]\n",
        "\n",
        "  wordcloud = WordCloud(width=600, height=400).generate(imp_words_topic)\n",
        "  plt.figure( figsize=(5,5))\n",
        "  plt.imshow(wordcloud)\n",
        "  plt.axis(\"off\")\n",
        "  plt.tight_layout()\n",
        "  plt.show()\n",
        ""
      ],
      "metadata": {
        "id": "_ac73PUhmZmn",
        "_uuid": "5221ae4de021107ef757b87d45053460e50582c8",
        "trusted": true
      },
      "execution_count": null,
      "outputs": []
    },
    {
      "cell_type": "code",
      "source": [
        "# topic 0\n",
        "draw_word_cloud(0)"
      ],
      "metadata": {
        "id": "-tD4nZdRqnAk",
        "_uuid": "e5246db8bb1b751a1f3b96bb65d4da9e34dfc2ba",
        "trusted": true
      },
      "execution_count": null,
      "outputs": []
    },
    {
      "cell_type": "code",
      "source": [
        "# topic 1\n",
        "draw_word_cloud(1)  # ..."
      ],
      "metadata": {
        "id": "Jz_zGbSws1ns",
        "_uuid": "74872c17b12680171090690f62ce77019e03ef52",
        "trusted": true
      },
      "execution_count": null,
      "outputs": []
    },
    {
      "cell_type": "code",
      "source": [],
      "metadata": {
        "id": "gkhvmGMds6BV",
        "_uuid": "a71cd3aa1fa1834f11023bbd98a0a4b558f5b8c7"
      },
      "execution_count": null,
      "outputs": []
    },
    {
      "cell_type": "markdown",
      "source": [
        "## THE END !!!"
      ],
      "metadata": {
        "_uuid": "2e5a0755a89a138ba157a57502bb6f6d8df8577a",
        "id": "TITfl57wYKxJ"
      }
    },
    {
      "cell_type": "markdown",
      "source": [
        "## [Please star/upvote in case u liked it. ]"
      ],
      "metadata": {
        "_uuid": "bae1e1f367c3c9b3ebc8b60bc5c3568c131fb1d9",
        "id": "l95PZuLaYKxJ"
      }
    },
    {
      "cell_type": "code",
      "source": [],
      "metadata": {
        "_uuid": "220f0c0b4fc78848f66ee48aa11b91c3f3f7838a",
        "id": "E3k2al8eYKxK"
      },
      "execution_count": null,
      "outputs": []
    }
  ]
}