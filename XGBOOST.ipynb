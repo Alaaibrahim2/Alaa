{
  "nbformat": 4,
  "nbformat_minor": 0,
  "metadata": {
    "colab": {
      "private_outputs": true,
      "provenance": [],
      "authorship_tag": "ABX9TyPuTdWLmZk5M7vfyUw3udpL",
      "include_colab_link": true
    },
    "kernelspec": {
      "name": "python3",
      "display_name": "Python 3"
    },
    "language_info": {
      "name": "python"
    },
    "accelerator": "GPU",
    "gpuClass": "standard"
  },
  "cells": [
    {
      "cell_type": "markdown",
      "metadata": {
        "id": "view-in-github",
        "colab_type": "text"
      },
      "source": [
        "<a href=\"https://colab.research.google.com/github/Alaaibrahim2/Alaa/blob/main/XGBOOST.ipynb\" target=\"_parent\"><img src=\"https://colab.research.google.com/assets/colab-badge.svg\" alt=\"Open In Colab\"/></a>"
      ]
    },
    {
      "cell_type": "code",
      "execution_count": null,
      "metadata": {
        "id": "P7OOt-fxoAT3"
      },
      "outputs": [],
      "source": [
        "import numpy as np\n",
        "import pandas as pd\n",
        "import matplotlib.pyplot as plt\n",
        "import seaborn as sns"
      ]
    },
    {
      "cell_type": "code",
      "source": [
        "df=pd.read_csv('/content/SolarPrediction.csv')"
      ],
      "metadata": {
        "id": "ZBMyhDmzog6f"
      },
      "execution_count": null,
      "outputs": []
    },
    {
      "cell_type": "code",
      "source": [
        "df"
      ],
      "metadata": {
        "id": "suMSZPn4oy4z"
      },
      "execution_count": null,
      "outputs": []
    },
    {
      "cell_type": "code",
      "source": [
        "df.shape"
      ],
      "metadata": {
        "id": "_bMv87rXpEqL"
      },
      "execution_count": null,
      "outputs": []
    },
    {
      "cell_type": "code",
      "source": [
        "df['Radiation'].plot()"
      ],
      "metadata": {
        "id": "K_8Y3gKHrSpG"
      },
      "execution_count": null,
      "outputs": []
    },
    {
      "cell_type": "code",
      "source": [
        "df=df.drop(['UNIXTime','Data','Time','TimeSunRise','TimeSunSet'],axis=1)\n",
        "print(df)"
      ],
      "metadata": {
        "id": "2-jIqnbYresK"
      },
      "execution_count": null,
      "outputs": []
    },
    {
      "cell_type": "code",
      "source": [
        "x=df.drop('Radiation',axis=1)\n",
        "x"
      ],
      "metadata": {
        "id": "k67zcZSSrsv9"
      },
      "execution_count": null,
      "outputs": []
    },
    {
      "cell_type": "code",
      "source": [
        "y=df['Radiation']\n",
        "y"
      ],
      "metadata": {
        "id": "ZgF5yNtrsBTm"
      },
      "execution_count": null,
      "outputs": []
    },
    {
      "cell_type": "code",
      "source": [
        "import xgboost as xgb\n",
        "from sklearn.model_selection import train_test_split\n",
        "X_train, X_test, y_train, y_test = train_test_split(x, y, test_size=0.33, random_state=42)\n",
        "X_train.head()"
      ],
      "metadata": {
        "id": "NqQ2L8QFsI6x"
      },
      "execution_count": null,
      "outputs": []
    },
    {
      "cell_type": "code",
      "source": [
        "xgdmat=xgb.DMatrix(X_train,y_train)\n",
        "our_params={'eta':0.1,'seed':0,'subsample':0.8,'colsample_bytree':0.8,'objective':'reg:linear','max_depth':3,'min_child_weight':1}\n",
        "final_gb=xgb.train(our_params,xgdmat)\n",
        "tesdmat=xgb.DMatrix(X_test)\n",
        "y_pred=final_gb.predict(tesdmat)\n",
        "print(y_pred)"
      ],
      "metadata": {
        "id": "0JlmTqa21Mpl"
      },
      "execution_count": null,
      "outputs": []
    },
    {
      "cell_type": "code",
      "source": [
        "xgb_reg = xgb.XGBRegressor(objective='reg:squarederror', n_estimators=100, max_depth=3)\n",
        "from sklearn.metrics import mean_squared_error\n",
        "# Train the regressor\n",
        "xgb_reg.fit(X_train, y_train)\n",
        "\n",
        "# Predict on test set\n",
        "y_pred = xgb_reg.predict(X_test)\n",
        "\n",
        "# Evaluate performance\n",
        "mse = mean_squared_error(y_test, y_pred)\n",
        "print('MSE: {:.2f}'.format(mse))"
      ],
      "metadata": {
        "id": "jojPfCJHshCy"
      },
      "execution_count": null,
      "outputs": []
    },
    {
      "cell_type": "code",
      "source": [
        "from sklearn.model_selection import train_test_split, RandomizedSearchCV\n",
        "from scipy.stats import uniform, randint\n",
        "X_train, X_test, y_train, y_test = train_test_split(x, y, test_size=0.2, random_state=42)\n",
        "param_distributions = {\n",
        "    'learning_rate': uniform(0.01, 0.1),\n",
        "    'max_depth': randint(1, 10),\n",
        "    'subsample': uniform(0.5, 0.5),\n",
        "    'colsample_bytree': uniform(0.5, 0.5),\n",
        "    'n_estimators': randint(50, 200)\n",
        "}\n",
        "xgb_reg = xgb.XGBRegressor(objective='reg:squarederror')\n",
        "\n",
        "# Perform randomized search with cross-validation\n",
        "rs = RandomizedSearchCV(xgb_reg, param_distributions, n_iter=100, cv=5, random_state=42)\n",
        "rs.fit(X_train, y_train)\n",
        "\n",
        "# Print best parameters and score\n",
        "print('Best parameters:', rs.best_params_)\n",
        "print('Best score:', rs.best_score_)"
      ],
      "metadata": {
        "id": "ItZ8FoBjzGGj"
      },
      "execution_count": null,
      "outputs": []
    },
    {
      "cell_type": "code",
      "source": [
        "xgb_reg = xgb.XGBRegressor(objective='reg:squarederror', n_estimators=165, max_depth=9,colsample_bytree=0.9534142207728771,learning_rate=0.03721322493846353,subsample=0.6762844281670846)\n",
        "from sklearn.metrics import mean_squared_error\n",
        "# Train the regressor\n",
        "xgb_reg.fit(X_train, y_train)\n",
        "\n",
        "# Predict on test set\n",
        "y_pred = xgb_reg.predict(X_test)\n",
        "\n",
        "# Evaluate performance\n",
        "mse = mean_squared_error(y_test, y_pred)\n",
        "print('MSE: {:.2f}'.format(mse))"
      ],
      "metadata": {
        "id": "1T3W8l8B6b93"
      },
      "execution_count": null,
      "outputs": []
    }
  ]
}